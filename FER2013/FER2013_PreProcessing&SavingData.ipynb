{
 "cells": [
  {
   "cell_type": "code",
   "execution_count": 1,
   "metadata": {},
   "outputs": [
    {
     "name": "stdout",
     "output_type": "stream",
     "text": [
      "cuda:0\n"
     ]
    }
   ],
   "source": [
    "import torch\n",
    "device = torch.device(\"cuda:0\" if torch.cuda.is_available() else \"cpu\")\n",
    "device = torch.device(\"cuda:0\" if torch.cuda.is_available() else \"cpu\")\n",
    "print(device)"
   ]
  },
  {
   "cell_type": "markdown",
   "metadata": {},
   "source": [
    "# Imports"
   ]
  },
  {
   "cell_type": "code",
   "execution_count": 2,
   "metadata": {},
   "outputs": [],
   "source": [
    "import numpy as np\n",
    "import pandas as pd\n",
    "\n",
    "import matplotlib.pyplot as plt\n",
    "import matplotlib.image as image\n",
    "\n",
    "from pprint import pprint\n",
    "\n",
    "%matplotlib inline"
   ]
  },
  {
   "cell_type": "code",
   "execution_count": 3,
   "metadata": {},
   "outputs": [],
   "source": [
    "# below variables are established to be used throughout the notebook without being subjected to any change\n",
    "BATCH_SIZE     = 64\n",
    "HEIGHT = WIDTH = 48\n",
    "CHANNELS       =  3\n",
    "\n",
    "EMOTIONS       = ['surprise', 'fear', 'angry', 'neutral', 'sad', 'disgust', 'happy']"
   ]
  },
  {
   "cell_type": "markdown",
   "metadata": {},
   "source": [
    "C:\\Users\\KARAN\\Desktop\\Cambridge\\data\\FER2013"
   ]
  },
  {
   "cell_type": "code",
   "execution_count": 4,
   "metadata": {},
   "outputs": [],
   "source": [
    "import os\n",
    "import re\n",
    "\n",
    "import numpy as np\n",
    "import pandas as pd\n",
    "\n",
    "import cv2\n",
    "import PIL.Image as Image\n",
    "\n",
    "import torch\n",
    "from torch.utils.data import Dataset\n",
    "from torch.utils.data import DataLoader\n",
    "from torch.utils.data import TensorDataset\n",
    "\n",
    "from imblearn.over_sampling import SMOTE\n",
    "\n",
    "from sklearn import preprocessing\n",
    "from sklearn.model_selection import train_test_split\n",
    "\n",
    "from torchvision import transforms"
   ]
  },
  {
   "cell_type": "markdown",
   "metadata": {},
   "source": [
    "# Preprocessing (skip)"
   ]
  },
  {
   "cell_type": "code",
   "execution_count": 5,
   "metadata": {},
   "outputs": [],
   "source": [
    "paths   = []\n",
    "labels  = []\n",
    "\n",
    "base = f\"C:\\\\Users\\\\KARAN\\\\Desktop\\\\Cambridge\\\\data\\\\FER2013\\\\\"\n",
    "\n",
    "if os.path.exists(path=base) and os.path.isdir(base):\n",
    "    \n",
    "    for level_1_dir in os.listdir(path=base): \n",
    "        level_1_path = f\"{level_1_dir}\"\n",
    "        if os.path.exists(path=base + level_1_path):\n",
    "            for level_2_dir in os.listdir(path=base + level_1_path): # 7 emotions\n",
    "                level_2_path =f\"{level_1_path}/{level_2_dir}\"\n",
    "                if os.path.exists(path=base + level_2_path) and os.path.isdir(base + level_2_path):\n",
    "                    for file in os.listdir(path=base + level_2_path): # files\n",
    "                        file_path = f\"{level_2_path}/{file}\"\n",
    "                        if os.path.isfile(base + file_path):\n",
    "                            paths.append(file_path)\n",
    "                            labels.append(level_2_dir)\n",
    "\n",
    "df = pd.DataFrame({'path': [base + path for path in paths], 'label': labels})"
   ]
  },
  {
   "cell_type": "code",
   "execution_count": 6,
   "metadata": {},
   "outputs": [
    {
     "data": {
      "text/html": [
       "<div>\n",
       "<style scoped>\n",
       "    .dataframe tbody tr th:only-of-type {\n",
       "        vertical-align: middle;\n",
       "    }\n",
       "\n",
       "    .dataframe tbody tr th {\n",
       "        vertical-align: top;\n",
       "    }\n",
       "\n",
       "    .dataframe thead th {\n",
       "        text-align: right;\n",
       "    }\n",
       "</style>\n",
       "<table border=\"1\" class=\"dataframe\">\n",
       "  <thead>\n",
       "    <tr style=\"text-align: right;\">\n",
       "      <th></th>\n",
       "      <th>path</th>\n",
       "      <th>label</th>\n",
       "      <th>img_as_matrix</th>\n",
       "    </tr>\n",
       "  </thead>\n",
       "  <tbody>\n",
       "    <tr>\n",
       "      <th>0</th>\n",
       "      <td>C:\\Users\\KARAN\\Desktop\\Cambridge\\data\\FER2013\\...</td>\n",
       "      <td>angry</td>\n",
       "      <td>[[[46, 46, 46], [34, 34, 34], [26, 26, 26], [2...</td>\n",
       "    </tr>\n",
       "    <tr>\n",
       "      <th>1</th>\n",
       "      <td>C:\\Users\\KARAN\\Desktop\\Cambridge\\data\\FER2013\\...</td>\n",
       "      <td>angry</td>\n",
       "      <td>[[[55, 55, 55], [33, 33, 33], [54, 54, 54], [3...</td>\n",
       "    </tr>\n",
       "    <tr>\n",
       "      <th>2</th>\n",
       "      <td>C:\\Users\\KARAN\\Desktop\\Cambridge\\data\\FER2013\\...</td>\n",
       "      <td>angry</td>\n",
       "      <td>[[[123, 123, 123], [123, 123, 123], [126, 126,...</td>\n",
       "    </tr>\n",
       "    <tr>\n",
       "      <th>3</th>\n",
       "      <td>C:\\Users\\KARAN\\Desktop\\Cambridge\\data\\FER2013\\...</td>\n",
       "      <td>angry</td>\n",
       "      <td>[[[255, 255, 255], [255, 255, 255], [255, 255,...</td>\n",
       "    </tr>\n",
       "    <tr>\n",
       "      <th>4</th>\n",
       "      <td>C:\\Users\\KARAN\\Desktop\\Cambridge\\data\\FER2013\\...</td>\n",
       "      <td>angry</td>\n",
       "      <td>[[[127, 127, 127], [121, 121, 121], [124, 124,...</td>\n",
       "    </tr>\n",
       "  </tbody>\n",
       "</table>\n",
       "</div>"
      ],
      "text/plain": [
       "                                                path  label  \\\n",
       "0  C:\\Users\\KARAN\\Desktop\\Cambridge\\data\\FER2013\\...  angry   \n",
       "1  C:\\Users\\KARAN\\Desktop\\Cambridge\\data\\FER2013\\...  angry   \n",
       "2  C:\\Users\\KARAN\\Desktop\\Cambridge\\data\\FER2013\\...  angry   \n",
       "3  C:\\Users\\KARAN\\Desktop\\Cambridge\\data\\FER2013\\...  angry   \n",
       "4  C:\\Users\\KARAN\\Desktop\\Cambridge\\data\\FER2013\\...  angry   \n",
       "\n",
       "                                       img_as_matrix  \n",
       "0  [[[46, 46, 46], [34, 34, 34], [26, 26, 26], [2...  \n",
       "1  [[[55, 55, 55], [33, 33, 33], [54, 54, 54], [3...  \n",
       "2  [[[123, 123, 123], [123, 123, 123], [126, 126,...  \n",
       "3  [[[255, 255, 255], [255, 255, 255], [255, 255,...  \n",
       "4  [[[127, 127, 127], [121, 121, 121], [124, 124,...  "
      ]
     },
     "execution_count": 6,
     "metadata": {},
     "output_type": "execute_result"
    }
   ],
   "source": [
    "# create a new column to store the images as ndarray\n",
    "df['img_as_matrix'] = df['path'].apply(lambda path: cv2.imread(path))\n",
    "\n",
    "# view firts 5 rows of the newly created dataframe\n",
    "df.head()"
   ]
  },
  {
   "cell_type": "code",
   "execution_count": 7,
   "metadata": {},
   "outputs": [
    {
     "data": {
      "image/png": "[encoded data removed]",
      "text/plain": [
       "<Figure size 1000x500 with 8 Axes>"
      ]
     },
     "metadata": {},
     "output_type": "display_data"
    }
   ],
   "source": [
    "# set plotting options\n",
    "fig, ((ax1, ax2, ax3, ax4), (ax5, ax6, ax7, _)) = plt.subplots(2, 4, figsize=(10, 5))\n",
    "_.set_visible(False)\n",
    "\n",
    "for index, label in enumerate(df['label'].unique()):\n",
    "    img = df[df['label'] == label]['img_as_matrix'].iloc[0]\n",
    "    \n",
    "    exec(f\"ax{index + 1}.imshow(img)\")\n",
    "    exec(f\"ax{index + 1}.set_title(label.title())\")\n",
    "    \n",
    "fig.tight_layout()"
   ]
  },
  {
   "cell_type": "code",
   "execution_count": 8,
   "metadata": {},
   "outputs": [
    {
     "data": {
      "text/plain": [
       "<BarContainer object of 7 artists>"
      ]
     },
     "execution_count": 8,
     "metadata": {},
     "output_type": "execute_result"
    },
    {
     "data": {
      "image/png": "[encoded data removed]",
      "text/plain": [
       "<Figure size 640x480 with 1 Axes>"
      ]
     },
     "metadata": {},
     "output_type": "display_data"
    }
   ],
   "source": [
    "plt.title('Value Counts per Emotion')\n",
    "plt.barh(y = df.label.value_counts().index, width = df.label.value_counts().values)"
   ]
  },
  {
   "cell_type": "markdown",
   "metadata": {},
   "source": [
    "Processing Data / Missing values and dropping Imgs far off the Mean err"
   ]
  },
  {
   "cell_type": "code",
   "execution_count": 9,
   "metadata": {},
   "outputs": [
    {
     "data": {
      "image/png": "[encoded data removed]",
      "text/plain": [
       "<Figure size 1000x500 with 8 Axes>"
      ]
     },
     "metadata": {},
     "output_type": "display_data"
    }
   ],
   "source": [
    "fig, ((ax1, ax2, ax3, ax4), (ax5, ax6, ax7, ax8)) = plt.subplots(2, 4, figsize=(10, 5))\n",
    "\n",
    "for index, img in enumerate(df['img_as_matrix']):\n",
    "    # calculate mean value from RGB channels and flatten to 1D array\n",
    "    img_1_chan = img.mean(axis=2).flatten().astype(np.uint8)\n",
    "    \n",
    "    # gett same \n",
    "    equ = cv2.equalizeHist(img_1_chan)\n",
    "    \n",
    "    exec(f\"ax{index + 1}.hist(img_1_chan, bins=100, range=(0, 255))\")\n",
    "    exec(f\"ax{index + 1}.hist(equ, bins=100, range=(0, 255))\")\n",
    "    \n",
    "    if index >= 7:\n",
    "        break"
   ]
  },
  {
   "cell_type": "code",
   "execution_count": 10,
   "metadata": {},
   "outputs": [],
   "source": [
    "# store the average image per emotion\n",
    "average_image_per_label = {}\n",
    "\n",
    "# compute the average image per label\n",
    "for index, label in enumerate(df['label'].unique()):\n",
    "    avg_img = np.stack(df[df['label'] == label]['img_as_matrix']).mean(axis=0).astype(np.int8)\n",
    "    \n",
    "    # store the result\n",
    "    average_image_per_label[label] = avg_img"
   ]
  },
  {
   "cell_type": "code",
   "execution_count": 11,
   "metadata": {},
   "outputs": [],
   "source": [
    "# store deltas between each image and its label's average\n",
    "deltas = []\n",
    "\n",
    "for i in range(len(df)):\n",
    "    label = df.loc[i, 'label']\n",
    "    # find the delta between each image and its label's average\n",
    "    delta = np.absolute(average_image_per_label[label] - df.loc[i, 'img_as_matrix'].astype(np.int8))\n",
    "    deltas.append(delta)\n",
    "    \n",
    "df['delta_vs_avg_image'] = deltas"
   ]
  },
  {
   "cell_type": "code",
   "execution_count": 12,
   "metadata": {},
   "outputs": [],
   "source": [
    "# find the mean error across all channels\n",
    "df['mean_error'] = df['delta_vs_avg_image'].apply(lambda x: x.mean())"
   ]
  },
  {
   "cell_type": "code",
   "execution_count": 13,
   "metadata": {},
   "outputs": [],
   "source": [
    "# find an average mean error per group\n",
    "mean_errors_per_label = df.groupby('label')['mean_error'].mean()\n",
    "\n",
    "# store standard deviations\n",
    "error_stds = []\n",
    "\n",
    "for i in range(len(df)):\n",
    "    label = df.loc[i, 'label']\n",
    "    # compute variance between mean error of each image and average error for label\n",
    "    var = abs(df.loc[i, 'mean_error'] - mean_errors_per_label[label])**2\n",
    "    # compute standard deviation from variance\n",
    "    std = np.sqrt(var)\n",
    "    # store the result\n",
    "    error_stds.append(std)\n",
    "    \n",
    "df['error_std'] = error_stds"
   ]
  },
  {
   "cell_type": "code",
   "execution_count": 14,
   "metadata": {},
   "outputs": [],
   "source": [
    "# compute standard deviation boundaries\n",
    "min_std = df['error_std'].min()\n",
    "max_std = df['error_std'].max()\n",
    "\n",
    "\n",
    "# treat the image as anomalous if its mean error is below or above standard deviation boundaries.\n",
    "def get_anomalous_point(mean_error: float, min_std: float, max_std: float): return mean_error < min_std or mean_error > max_std\n",
    "    \n",
    "# mark images as anomalous or not\n",
    "df['check_for_anomalies'] = df['mean_error'].apply(lambda err: get_anomalous_point(err, min_std, max_std))"
   ]
  },
  {
   "cell_type": "code",
   "execution_count": 15,
   "metadata": {},
   "outputs": [],
   "source": [
    "# retrieve indices of the anomalous images to drop\n",
    "image_indices_to_drop = list(df[df['check_for_anomalies'] == True].index)\n",
    "\n",
    "# drop anomalous image indices,reset index, and update dataframe\n",
    "df = df.drop(image_indices_to_drop).reset_index(drop=True)"
   ]
  },
  {
   "cell_type": "code",
   "execution_count": 16,
   "metadata": {},
   "outputs": [
    {
     "name": "stdout",
     "output_type": "stream",
     "text": [
      "How many images gets dropped: 9143\n",
      "Some samples: [4, 5, 13, 14, 16, 20, 25, 30, 31, 35, 36, 38, 44, 45, 46, 47, 49, 51, 53, 54]\n",
      "\n"
     ]
    }
   ],
   "source": [
    "# print planned to be dropped indices\n",
    "print(f\"How many images gets dropped: {len(image_indices_to_drop)}\\nSome samples: {image_indices_to_drop[:20]}\\n\")\n"
   ]
  },
  {
   "cell_type": "code",
   "execution_count": 17,
   "metadata": {},
   "outputs": [
    {
     "name": "stdout",
     "output_type": "stream",
     "text": [
      "Length of original dataset is: 26744\n",
      "Length of reduced dataset is: 8020\n"
     ]
    },
    {
     "name": "stderr",
     "output_type": "stream",
     "text": [
      "C:\\Users\\KARAN\\AppData\\Local\\Temp\\ipykernel_25576\\3191225578.py:14: FutureWarning: The behavior of DataFrame concatenation with empty or all-NA entries is deprecated. In a future version, this will no longer exclude empty or all-NA columns when determining the result dtypes. To retain the old behavior, exclude the relevant entries before the concat operation.\n",
      "  df_agg      = pd.concat([df_agg, subset_df])\n"
     ]
    }
   ],
   "source": [
    "# view total number of records in dataset\n",
    "print(f'Length of original dataset is: {len(df)}')\n",
    "\n",
    "# decrease the dataset to %N samples per each category to solve the memory allocation issue\n",
    "N_percent       = 0.3\n",
    "\n",
    "# aggregating storage dataframe\n",
    "df_agg          = pd.DataFrame(data=[], columns=df.columns)\n",
    "\n",
    "# per each label, select the first %N samples and append to the aggregating dataframe\n",
    "for lbl in np.unique(labels):\n",
    "    len_to_keep = int(N_percent*len(df[df.label == lbl]))\n",
    "    subset_df   = df[df.label == lbl][:len_to_keep]\n",
    "    df_agg      = pd.concat([df_agg, subset_df])\n",
    "\n",
    "# reset index and drop the resulting index column\n",
    "df_agg          = df_agg.reset_index().drop('index', axis=1)\n",
    "\n",
    "# view total number of records in the reduced dataset\n",
    "print(f'Length of reduced dataset is: {len(df_agg)}')"
   ]
  },
  {
   "cell_type": "markdown",
   "metadata": {},
   "source": [
    "SMOTE for class imb"
   ]
  },
  {
   "cell_type": "code",
   "execution_count": 18,
   "metadata": {},
   "outputs": [
    {
     "name": "stdout",
     "output_type": "stream",
     "text": [
      "Shape of X before reshape: (8020, 48, 48, 3)\n",
      "Shape of X before reshape: (8020, 48, 48, 3)\n"
     ]
    }
   ],
   "source": [
    "from imblearn.over_sampling import SMOTE\n",
    "\n",
    "smote = SMOTE(random_state=62)\n",
    "\n",
    "# assign labels to y\n",
    "y = df_agg['label']\n",
    "\n",
    "# X is a list of read-in images\n",
    "X = np.stack(df_agg['img_as_matrix'])\n",
    "\n",
    "# get all dimensions of the resulting X\n",
    "n_samples, height, width, n_channels = [X.shape[index] for index in range(4)]\n",
    "\n",
    "print(f\"Shape of X before reshape: {X.shape}\")\n",
    "\n",
    "# reshape X because SMOTE accepts only (n_samples, n_channels*height*weight)-type data\n",
    "X_reshaped = X.reshape(n_samples, n_channels*height*width)\n",
    "\n",
    "print(f\"Shape of X before reshape: {X.shape}\")"
   ]
  },
  {
   "cell_type": "code",
   "execution_count": 19,
   "metadata": {},
   "outputs": [],
   "source": [
    "# perform re-sampling on modified X given y\n",
    "X_smote, y_smote = smote.fit_resample(X_reshaped, y)"
   ]
  },
  {
   "cell_type": "code",
   "execution_count": 20,
   "metadata": {},
   "outputs": [
    {
     "data": {
      "text/plain": [
       "array([[ 46,  46,  46, ..., 189, 189, 189],\n",
       "       [ 55,  55,  55, ..., 187, 187, 187],\n",
       "       [123, 123, 123, ...,   3,   3,   3],\n",
       "       ...,\n",
       "       [  1,   1,   1, ..., 174, 174, 174],\n",
       "       [107, 107, 107, ..., 234, 234, 234],\n",
       "       [ 66,  66,  66, ...,  77,  77,  77]], dtype=uint8)"
      ]
     },
     "execution_count": 20,
     "metadata": {},
     "output_type": "execute_result"
    }
   ],
   "source": [
    "X_smote"
   ]
  },
  {
   "cell_type": "code",
   "execution_count": 21,
   "metadata": {},
   "outputs": [],
   "source": [
    "# Assuming you have a NumPy array or PyTorch tensor named 'my_tensor'\n",
    "# Save it to a file using NumPy\n",
    "np.save('X_smote.npy', X_smote)\n",
    "np.save('y_smote.npy', y_smote)\n",
    "\n"
   ]
  },
  {
   "cell_type": "markdown",
   "metadata": {},
   "source": [
    "# Saved data load and use"
   ]
  },
  {
   "cell_type": "code",
   "execution_count": 22,
   "metadata": {},
   "outputs": [],
   "source": [
    "# To load the tensor back\n",
    "loaded_tensor = np.load('X_smote.npy')"
   ]
  },
  {
   "cell_type": "code",
   "execution_count": 23,
   "metadata": {},
   "outputs": [
    {
     "name": "stdout",
     "output_type": "stream",
     "text": [
      "Before re-sampling, the amount of images:    8020\n",
      "After re-sampling, the amount of images:     14742\n"
     ]
    }
   ],
   "source": [
    "print(f'Before re-sampling, the amount of images:  {len(X):6}')\n",
    "print(f'After re-sampling, the amount of images:{len(X_smote):10}')"
   ]
  },
  {
   "cell_type": "code",
   "execution_count": 24,
   "metadata": {},
   "outputs": [
    {
     "data": {
      "text/plain": [
       "<BarContainer object of 7 artists>"
      ]
     },
     "execution_count": 24,
     "metadata": {},
     "output_type": "execute_result"
    },
    {
     "data": {
      "image/png": "[encoded data removed]",
      "text/plain": [
       "<Figure size 640x480 with 1 Axes>"
      ]
     },
     "metadata": {},
     "output_type": "display_data"
    }
   ],
   "source": [
    "# view the resulting balanced data(modified distribution)\n",
    "plt.title('Value Counts per Emotion After Re-sampling')\n",
    "plt.barh(y = y_smote.value_counts().index, width = y_smote.value_counts().values)"
   ]
  },
  {
   "cell_type": "code",
   "execution_count": 25,
   "metadata": {},
   "outputs": [],
   "source": [
    "# initializing label encoder\n",
    "label_encoder = preprocessing.LabelEncoder()\n",
    "\n",
    "# convert X and y to Tensors\n",
    "X_smote = torch.Tensor(X_smote) # features\n",
    "y_smote = label_encoder.fit_transform(y_smote) # targets\n",
    "targets = torch.as_tensor(y_smote)\n",
    "\n",
    "# split data into train, valid and test\n",
    "X_train, X_trial, y_train, y_trial = train_test_split(X_smote, targets, test_size=0.20, random_state=42)\n",
    "#X_train, X_valid, y_train, y_valid = train_test_split(X_train, y_train, test_size=0.20, random_state=42)"
   ]
  },
  {
   "cell_type": "code",
   "execution_count": 26,
   "metadata": {},
   "outputs": [],
   "source": [
    "X_train, X_trial, y_train, y_trial = X_train.to(device), X_trial.to(device), y_train.to(device), y_trial.to(device)\n",
    "#X_valid, y_valid = X_valid.to(device), y_valid.to(device)"
   ]
  },
  {
   "cell_type": "code",
   "execution_count": 27,
   "metadata": {},
   "outputs": [
    {
     "data": {
      "text/plain": [
       "True"
      ]
     },
     "execution_count": 27,
     "metadata": {},
     "output_type": "execute_result"
    }
   ],
   "source": [
    "X_train.is_cuda"
   ]
  },
  {
   "cell_type": "code",
   "execution_count": 30,
   "metadata": {},
   "outputs": [
    {
     "name": "stdout",
     "output_type": "stream",
     "text": [
      "Initial shape of the X datasets along with y:\n",
      "    torch.Size([11793, 3, 48, 48]), torch.Size([11793])\n",
      "    torch.Size([2949, 6912]), torch.Size([2949])\n",
      "\n",
      "Latest shape of the X datasets along with y:\n",
      "    torch.Size([11793, 3, 48, 48]), torch.Size([11793])\n",
      "    torch.Size([2949, 3, 48, 48]), torch.Size([2949])\n",
      "\n"
     ]
    }
   ],
   "source": [
    "# print initial shape of the datasets\n",
    "print(f\"Initial shape of the X datasets along with y:\\n\\\n",
    "    {X_train.shape}, {y_train.shape}\\n\\\n",
    "    {X_trial.shape}, {y_trial.shape}\\n\")\n",
    "\n",
    "# reshape to remove the requirements of SMOTE that do not suit standard model training\n",
    "X_train = X_train.reshape((X_train.shape[0], 3, HEIGHT, WIDTH))\n",
    "X_trial = X_trial.reshape((X_trial.shape[0], 3, HEIGHT, WIDTH))\n",
    "\n",
    "# print latest shape of the datasets\n",
    "print(f\"Latest shape of the X datasets along with y:\\n\\\n",
    "    {X_train.shape}, {y_train.shape}\\n\\\n",
    "    {X_trial.shape}, {y_trial.shape}\\n\")"
   ]
  },
  {
   "cell_type": "code",
   "execution_count": null,
   "metadata": {},
   "outputs": [],
   "source": [
    "# create train, test and validation datasets for the data loader\n",
    "train_ds = TensorDataset(X_train,y_train)\n",
    "#valid_ds = TensorDataset(X_valid,y_valid)\n",
    "trial_ds = TensorDataset(X_trial,y_trial)"
   ]
  },
  {
   "cell_type": "code",
   "execution_count": null,
   "metadata": {},
   "outputs": [],
   "source": [
    "# add data transformations: (1) convert to tensor format, and (2) normalize the images\n",
    "transform = transforms.Compose([\n",
    "    transforms.ToTensor(),\n",
    "    transforms.Normalize(mean=(0.5, 0.5, 0.5), std=(0.5, 0.5, 0.5)),\n",
    "    transforms.RandomHorizontalFlip(),\n",
    "    transforms.RandomRotation(degrees=180),\n",
    "])\n",
    "\n",
    "# apply transformations to the train set\n",
    "train_ds.transform = transform\n",
    "\n",
    "# apply transformations to the validation set\n",
    "#valid_ds.transform = transform\n",
    "\n",
    "# apply transformations to the test set\n",
    "trial_ds.transform = transform\n",
    "\n",
    "# create a dataloader for each subset of data\n",
    "trainloader = DataLoader(train_ds, batch_size=BATCH_SIZE, shuffle=True, drop_last=True)\n",
    "#validloader = DataLoader(valid_ds, batch_size=BATCH_SIZE, shuffle=True, drop_last=True)\n",
    "trialloader = DataLoader(trial_ds, batch_size=BATCH_SIZE, shuffle=True, drop_last=True)"
   ]
  },
  {
   "cell_type": "markdown",
   "metadata": {},
   "source": [
    "# Train"
   ]
  },
  {
   "cell_type": "code",
   "execution_count": null,
   "metadata": {},
   "outputs": [],
   "source": [
    "import torch\n",
    "import torch.nn as nn\n",
    "import torch.optim as optim\n",
    "from torchvision import models\n",
    "from sklearn.model_selection import GridSearchCV\n",
    "import torch.utils.data as data\n",
    "import numpy as np"
   ]
  },
  {
   "cell_type": "code",
   "execution_count": null,
   "metadata": {},
   "outputs": [],
   "source": [
    "import torch.nn as nn\n",
    "\n",
    "class smallCNN(nn.Module):\n",
    "    def __init__(self, num_classes):\n",
    "        super(smallCNN, self).__init__()\n",
    "        self.conv1 = nn.Conv2d(3, 16, kernel_size=3, padding=1)\n",
    "        self.bn1 = nn.BatchNorm2d(16)\n",
    "        self.pool1 = nn.MaxPool2d(kernel_size=2, stride=2)\n",
    "        self.dropout1 = nn.Dropout(0.25)\n",
    "        self.fc1 = nn.Linear(16 * 24 * 24, 128)  # Adjusted the input size to match 3x48x48 input\n",
    "        self.bn2 = nn.BatchNorm1d(128)\n",
    "        self.dropout2 = nn.Dropout(0.5)\n",
    "        self.fc2 = nn.Linear(128, num_classes)\n",
    "\n",
    "    def forward(self, x):\n",
    "        x = self.bn1(self.conv1(x))\n",
    "        x = self.pool1(x)\n",
    "        x = self.dropout1(x)\n",
    "        x = x.view(x.size(0), -1)\n",
    "        x = self.bn2(self.fc1(x))\n",
    "        x = self.dropout2(x)\n",
    "        x = self.fc2(x)\n",
    "        return x\n",
    "\n"
   ]
  },
  {
   "cell_type": "code",
   "execution_count": null,
   "metadata": {},
   "outputs": [],
   "source": [
    "class CNN4(nn.Module):\n",
    "    def __init__(self):\n",
    "        super(CNN4, self).__init__()\n",
    "        self.conv1 = nn.Conv2d(3, 32, kernel_size=3, padding=1)\n",
    "        self.bn1 = nn.BatchNorm2d(32)\n",
    "        self.conv2 = nn.Conv2d(32, 32, kernel_size=3, padding=1)\n",
    "        self.bn2 = nn.BatchNorm2d(32)\n",
    "        self.pool1 = nn.MaxPool2d(kernel_size=2, stride=2)\n",
    "        self.dropout1 = nn.Dropout(0.25)\n",
    "        self.conv3 = nn.Conv2d(32, 64, kernel_size=3, padding=1)\n",
    "        self.bn3 = nn.BatchNorm2d(64)\n",
    "        self.dropout2 = nn.Dropout(0.25)\n",
    "        self.conv4 = nn.Conv2d(64, 128, kernel_size=3, padding=1)\n",
    "        self.bn4 = nn.BatchNorm2d(128)\n",
    "        self.pool2 = nn.MaxPool2d(kernel_size=2, stride=2)\n",
    "        self.dropout3 = nn.Dropout(0.25)\n",
    "        self.fc1 = nn.Linear(128 * 12 * 12, 512)\n",
    "        self.bn5 = nn.BatchNorm1d(512)\n",
    "        self.dropout4 = nn.Dropout(0.5)\n",
    "        self.fc2 = nn.Linear(512, 128)\n",
    "        self.bn6 = nn.BatchNorm1d(128)\n",
    "        self.dropout5 = nn.Dropout(0.5)\n",
    "        self.fc3 = nn.Linear(128, 7)\n",
    "\n",
    "\n",
    "    def forward(self, x):\n",
    "        x = self.bn1(self.conv1(x))\n",
    "        x = self.bn2(self.conv2(x))\n",
    "        x = self.pool1(x)\n",
    "        x = self.dropout1(x)\n",
    "        x = self.bn3(self.conv3(x))\n",
    "        x = self.dropout2(x)\n",
    "        x = self.bn4(self.conv4(x))\n",
    "        x = self.pool2(x)\n",
    "        x = self.dropout3(x)\n",
    "        x = x.view(x.size(0), -1)\n",
    "        x = self.bn5(self.fc1(x))\n",
    "        x = self.dropout4(x)\n",
    "        x = self.bn6(self.fc2(x))\n",
    "        x = self.dropout5(x)\n",
    "        x = self.fc3(x)\n",
    "        return x\n"
   ]
  },
  {
   "cell_type": "code",
   "execution_count": null,
   "metadata": {},
   "outputs": [
    {
     "data": {
      "text/plain": [
       "4219"
      ]
     },
     "execution_count": 212,
     "metadata": {},
     "output_type": "execute_result"
    }
   ],
   "source": [
    "import gc\n",
    "torch.cuda.empty_cache()\n",
    "gc.collect()"
   ]
  },
  {
   "cell_type": "code",
   "execution_count": null,
   "metadata": {},
   "outputs": [],
   "source": [
    "# Hyperparameters\n",
    "BATCH_SIZE = 128\n",
    "LEARNING_RATE = 0.001\n",
    "NUM_EPOCHS = 10\n",
    "\n",
    "# Define your model\n",
    "num_classes = 7  # Number of classes in your dataset\n",
    "\n",
    "model = smallCNN(num_classes)\n",
    "model.to(device)\n",
    "\n",
    "# Define your optimizer\n",
    "optimizer = optim.Adam(model.parameters(), lr=LEARNING_RATE)\n",
    "\n",
    "# Define your loss function\n",
    "criterion = nn.CrossEntropyLoss()\n",
    "\n",
    "# Create data loaders\n",
    "# create train, test and validation datasets for the data loader\n",
    "train_ds = TensorDataset(X_train,y_train)\n",
    "valid_ds = TensorDataset(X_valid,y_valid)\n",
    "trial_ds = TensorDataset(X_trial,y_trial)\n",
    "\n",
    "# add data transformations: (1) convert to tensor format, and (2) normalize the images\n",
    "transform = transforms.Compose([\n",
    "    transforms.ToTensor(),\n",
    "    transforms.Normalize(mean=(0.5, 0.5, 0.5), std=(0.5, 0.5, 0.5)),\n",
    "    transforms.RandomHorizontalFlip(),\n",
    "    transforms.RandomRotation(degrees=180),\n",
    "])\n",
    "\n",
    "# apply transformations to the train set\n",
    "train_ds.transform = transform\n",
    "\n",
    "# apply transformations to the validation set\n",
    "valid_ds.transform = transform\n",
    "\n",
    "# apply transformations to the test set\n",
    "trial_ds.transform = transform\n",
    "\n",
    "# create a dataloader for each subset of data\n",
    "trainloader = DataLoader(train_ds, batch_size=BATCH_SIZE, shuffle=True, drop_last=True)\n",
    "validloader = DataLoader(valid_ds, batch_size=BATCH_SIZE, shuffle=True, drop_last=True)\n",
    "trialloader = DataLoader(trial_ds, batch_size=BATCH_SIZE, shuffle=True, drop_last=True)\n"
   ]
  },
  {
   "cell_type": "code",
   "execution_count": null,
   "metadata": {},
   "outputs": [
    {
     "data": {
      "text/plain": [
       "0"
      ]
     },
     "execution_count": 214,
     "metadata": {},
     "output_type": "execute_result"
    }
   ],
   "source": [
    "import gc\n",
    "torch.cuda.empty_cache()\n",
    "gc.collect()"
   ]
  },
  {
   "cell_type": "code",
   "execution_count": null,
   "metadata": {},
   "outputs": [],
   "source": [
    "# # Training loop\n",
    "# for epoch in range(NUM_EPOCHS):\n",
    "#     # Training\n",
    "#     model.train()\n",
    "#     for data, labels in trainloader:\n",
    "#         optimizer.zero_grad()\n",
    "#         output = model(data)\n",
    "#         loss = criterion(output, labels.long())\n",
    "#         loss.backward()\n",
    "#         optimizer.step()\n",
    "\n",
    "#     # Validation\n",
    "#     model.eval()\n",
    "#     total_correct = 0\n",
    "#     total_samples = 0\n",
    "#     with torch.no_grad():\n",
    "#         for data, labels in validloader:\n",
    "#             output = model(data)\n",
    "#             _, predicted = torch.max(output, 1)\n",
    "#             total_samples += labels.size(0)\n",
    "#             total_correct += (predicted == labels).sum().item()\n",
    "\n",
    "#     accuracy = 100 * total_correct / total_samples\n",
    "#     print(f\"Epoch {epoch+1}/{NUM_EPOCHS}, Loss: {loss:.4f}, Validation Accuracy: {accuracy:.2f}%\")\n",
    "\n",
    "# # Testing\n",
    "# model.eval()\n",
    "# total_correct = 0\n",
    "# total_samples = 0\n",
    "# with torch.no_grad():\n",
    "#     for data, labels in trainloader:\n",
    "#         output = model(data)\n",
    "#         _, predicted = torch.max(output, 1)\n",
    "#         total_samples += labels.size(0)\n",
    "#         total_correct += (predicted == labels).sum().item()\n",
    "\n",
    "# test_accuracy = 100 * total_correct / total_samples\n",
    "# print(f\"Test Accuracy: {test_accuracy:.2f}%\")\n"
   ]
  },
  {
   "cell_type": "code",
   "execution_count": null,
   "metadata": {},
   "outputs": [],
   "source": [
    "# instantiate Resnet50 model\n",
    "model = torchvision.models.resnet50(pretrained=True)\n",
    "\n",
    "# replace the last fully connected layer to suit the classification problem\n",
    "model.fc = torch.nn.Sequential(\n",
    "    torch.nn.Linear(\n",
    "        in_features  = 2048,\n",
    "        out_features = 7\n",
    "    ),\n",
    "    torch.nn.Softmax(dim=1)\n",
    ")\n"
   ]
  },
  {
   "cell_type": "code",
   "execution_count": null,
   "metadata": {},
   "outputs": [],
   "source": [
    "loss_criterion = nn.NLLLoss()\n",
    "loss = criterion(output, labels.long())\n"
   ]
  },
  {
   "cell_type": "code",
   "execution_count": null,
   "metadata": {},
   "outputs": [
    {
     "name": "stdout",
     "output_type": "stream",
     "text": [
      "cuda:0\n"
     ]
    }
   ],
   "source": [
    "# choose the device to train on\n",
    "device = torch.device(\"cuda:0\" if torch.cuda.is_available() else \"cpu\")\n",
    "\n",
    "# send the model to chosen device\n",
    "model.to(device);\n",
    "print(device)"
   ]
  },
  {
   "cell_type": "code",
   "execution_count": null,
   "metadata": {},
   "outputs": [],
   "source": [
    "def compute_running_loss(loader, model):\n",
    "    running_loss = 0\n",
    "    \n",
    "    for images, labels in loader: # processing one batch at a time\n",
    "        \n",
    "        # send the batch inputs and targets to the selected device\n",
    "        images      = images.to(device)\n",
    "        labels      = labels.to(device)\n",
    "        \n",
    "        predictions = model(images) # predict labels\n",
    "        \n",
    "        loss        = loss_criterion(predictions, labels.long()) # calculate the loss\n",
    "        \n",
    "        # BACK PROPAGATION OF LOSS to generate updated weights\n",
    "        optimizer.zero_grad() # pytorch accumulates gradients from previous backwards\n",
    "                              # passes by default -- we want to zero them out;\n",
    "                              # you can read online why they have this implementation choice\n",
    "                \n",
    "        loss.backward()       # compute gradients by using the predictions' grad_fn\n",
    "                              # that was passed to loss_criterion() above -- this is how it\n",
    "                              # knows what model parameters need updating eventually\n",
    "                              # (this is confusing IMO and not obvious to those used to OOP)\n",
    "                    \n",
    "        optimizer.step()      # using gradients just calculated for model parameters, \n",
    "                              # update the weights via the optimizer (which was init with those \n",
    "                              # model parameters)\n",
    "        \n",
    "        running_loss += loss.item()\n",
    "    \n",
    "    return running_loss"
   ]
  },
  {
   "cell_type": "code",
   "execution_count": null,
   "metadata": {},
   "outputs": [],
   "source": [
    "def calculate_and_print_accuracy_score(name, loader):\n",
    "    # Calculate accuracy score on loader\n",
    "    \"\"\"\n",
    "    The below code is written to answer the below questions:\n",
    "    - Feed in the entire test dataset to the model, to make predictions? \n",
    "    - Could you write code to do this, and measure your model performance?\n",
    "    \"\"\"\n",
    "    results = []\n",
    "\n",
    "    for tensor_image_batch in iter(loader):\n",
    "        tensor_images, labels = tensor_image_batch\n",
    "        \n",
    "        # send inputs and targets to device\n",
    "        tensor_images         = tensor_images.to(device)\n",
    "        labels                = labels.to(device)\n",
    "        \n",
    "        for tensor_image, label in zip(tensor_images, labels):\n",
    "            prediction        = model(tensor_image.unsqueeze(0).cuda()).detach().cpu().numpy()\n",
    "            max_prob          = max(list(np.array(prediction)[0]))\n",
    "            predicted_label   = list(prediction[0]).index(max_prob)\n",
    "\n",
    "            results.append(label == predicted_label)\n",
    "\n",
    "    print(f\"{name.capitalize()} accuracy score: {sum(results)/len(results) * 100}\")"
   ]
  },
  {
   "cell_type": "code",
   "execution_count": null,
   "metadata": {},
   "outputs": [
    {
     "name": "stdout",
     "output_type": "stream",
     "text": [
      "cuda:0\n"
     ]
    }
   ],
   "source": [
    "print(device)"
   ]
  },
  {
   "cell_type": "code",
   "execution_count": null,
   "metadata": {},
   "outputs": [],
   "source": [
    "# instantiate an SGD optimizer for the chosen parameters\n",
    "optimizer = optim.SGD(model.parameters(), lr=LEARNING_RATE)"
   ]
  },
  {
   "cell_type": "code",
   "execution_count": null,
   "metadata": {},
   "outputs": [
    {
     "name": "stdout",
     "output_type": "stream",
     "text": [
      "In epoch 1\n",
      "Train loss: 1.9456, Train accuracy: 15.40%\n",
      "Validation loss: 1.9474, Validation accuracy: 14.89%\n",
      "\n",
      "In epoch 2\n",
      "Train loss: 1.9439, Train accuracy: 16.10%\n",
      "Validation loss: 1.9451, Validation accuracy: 15.84%\n",
      "\n",
      "In epoch 3\n",
      "Train loss: 1.9413, Train accuracy: 17.20%\n",
      "Validation loss: 1.9446, Validation accuracy: 16.54%\n",
      "\n",
      "In epoch 4\n",
      "Train loss: 1.9390, Train accuracy: 18.32%\n",
      "Validation loss: 1.9435, Validation accuracy: 17.06%\n",
      "\n",
      "In epoch 5\n",
      "Train loss: 1.9368, Train accuracy: 19.47%\n",
      "Validation loss: 1.9420, Validation accuracy: 17.58%\n",
      "\n",
      "In epoch 6\n",
      "Train loss: 1.9354, Train accuracy: 20.25%\n",
      "Validation loss: 1.9407, Validation accuracy: 17.80%\n",
      "\n",
      "In epoch 7\n",
      "Train loss: 1.9324, Train accuracy: 21.34%\n",
      "Validation loss: 1.9393, Validation accuracy: 17.93%\n",
      "\n",
      "In epoch 8\n",
      "Train loss: 1.9307, Train accuracy: 22.45%\n",
      "Validation loss: 1.9380, Validation accuracy: 19.18%\n",
      "\n",
      "In epoch 9\n",
      "Train loss: 1.9274, Train accuracy: 23.15%\n",
      "Validation loss: 1.9364, Validation accuracy: 19.84%\n",
      "\n",
      "In epoch 10\n",
      "Train loss: 1.9246, Train accuracy: 24.23%\n",
      "Validation loss: 1.9345, Validation accuracy: 21.01%\n",
      "\n",
      "Training completed.\n"
     ]
    },
    {
     "ename": "",
     "evalue": "",
     "output_type": "error",
     "traceback": [
      "\u001b[1;31mThe Kernel crashed while executing code in the the current cell or a previous cell. Please review the code in the cell(s) to identify a possible cause of the failure. Click <a href='https://aka.ms/vscodeJupyterKernelCrash'>here</a> for more info. View Jupyter <a href='command:jupyter.viewOutput'>log</a> for further details."
     ]
    }
   ],
   "source": [
    "import torch\n",
    "import torch.nn as nn\n",
    "import torch.optim as optim\n",
    "\n",
    "# Define your model, optimizer, loss function, and other hyperparameters here\n",
    "\n",
    "def train(model, train_loader, optimizer, criterion):\n",
    "    model.train()\n",
    "    running_loss = 0.0\n",
    "    correct = 0\n",
    "    total = 0\n",
    "\n",
    "    for inputs, labels in train_loader:\n",
    "        optimizer.zero_grad()\n",
    "        outputs = model(inputs)\n",
    "        loss = criterion(outputs, labels.long())\n",
    "        loss.backward()\n",
    "        optimizer.step()\n",
    "\n",
    "        running_loss += loss.item()\n",
    "        _, predicted = outputs.max(1)\n",
    "        total += labels.size(0)\n",
    "        correct += predicted.eq(labels).sum().item()\n",
    "\n",
    "    accuracy = 100 * correct / total\n",
    "    return running_loss / len(train_loader), accuracy\n",
    "\n",
    "def evaluate(model, data_loader, criterion):\n",
    "    model.eval()\n",
    "    running_loss = 0.0\n",
    "    correct = 0\n",
    "    total = 0\n",
    "\n",
    "    with torch.no_grad():\n",
    "        for inputs, labels in data_loader:\n",
    "            outputs = model(inputs)\n",
    "            loss = criterion(outputs, labels.long())\n",
    "            running_loss += loss.item()\n",
    "            _, predicted = outputs.max(1)\n",
    "            total += labels.size(0)\n",
    "            correct += predicted.eq(labels).sum().item()\n",
    "\n",
    "    accuracy = 100 * correct / total\n",
    "    return running_loss / len(data_loader), accuracy\n",
    "\n",
    "# Store training and validation losses and accuracies\n",
    "train_losses = []\n",
    "validate_losses = []\n",
    "train_accuracies = []\n",
    "validate_accuracies = []\n",
    "\n",
    "# Training loop\n",
    "for epoch in range(NUM_EPOCHS):\n",
    "    print(f\"In epoch {epoch + 1}\")\n",
    "\n",
    "    # Training\n",
    "    train_loss, train_acc = train(model, trainloader, optimizer, criterion)\n",
    "    train_losses.append(train_loss)\n",
    "    train_accuracies.append(train_acc)\n",
    "    print(f\"Train loss: {train_loss:.4f}, Train accuracy: {train_acc:.2f}%\")\n",
    "\n",
    "    # Validation\n",
    "    validate_loss, validate_acc = evaluate(model, validloader, criterion)\n",
    "    validate_losses.append(validate_loss)\n",
    "    validate_accuracies.append(validate_acc)\n",
    "    print(f\"Validation loss: {validate_loss:.4f}, Validation accuracy: {validate_acc:.2f}%\")\n",
    "\n",
    "    print()\n",
    "\n",
    "print(\"Training completed.\")\n",
    "\n"
   ]
  },
  {
   "cell_type": "code",
   "execution_count": null,
   "metadata": {},
   "outputs": [],
   "source": []
  },
  {
   "cell_type": "code",
   "execution_count": null,
   "metadata": {},
   "outputs": [],
   "source": []
  }
 ],
 "metadata": {
  "kernelspec": {
   "display_name": "GPU_torch",
   "language": "python",
   "name": "python3"
  },
  "language_info": {
   "codemirror_mode": {
    "name": "ipython",
    "version": 3
   },
   "file_extension": ".py",
   "mimetype": "text/x-python",
   "name": "python",
   "nbconvert_exporter": "python",
   "pygments_lexer": "ipython3",
   "version": "3.9.18"
  }
 },
 "nbformat": 4,
 "nbformat_minor": 2
}
